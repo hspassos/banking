{
 "cells": [
  {
   "cell_type": "markdown",
   "metadata": {},
   "source": [
    "Taxas diárias"
   ]
  },
  {
   "cell_type": "code",
   "execution_count": 2,
   "metadata": {},
   "outputs": [],
   "source": [
    "import json\n",
    "import pandas as pd\n",
    "\n",
    "with open('dados/Taxas de juros - Diário.json', 'r', encoding='utf-8') as arquivo:\n",
    "    dados = json.load(arquivo)"
   ]
  },
  {
   "cell_type": "code",
   "execution_count": 3,
   "metadata": {},
   "outputs": [],
   "source": [
    "data_daily =  pd.DataFrame(dados)\n",
    "data_daily = data_daily.drop('@odata.context', axis=1)\n",
    "\n",
    "from pandas import json_normalize\n",
    "data_daily = json_normalize(data_daily['value'])"
   ]
  },
  {
   "cell_type": "markdown",
   "metadata": {},
   "source": [
    "Taxas mensais"
   ]
  },
  {
   "cell_type": "code",
   "execution_count": 4,
   "metadata": {},
   "outputs": [],
   "source": [
    "with open('dados/Taxas de juros - Mensal.json', 'r', encoding='utf-8') as arquivo:\n",
    "    data_monthly = json.load(arquivo)\n",
    "\n",
    "\n",
    "data_monthly =  pd.DataFrame(data_monthly)\n",
    "#data = data.drop('@odata.context', axis=1)\n",
    "\n",
    "data_monthly = json_normalize(data_monthly['value'])\n"
   ]
  },
  {
   "cell_type": "markdown",
   "metadata": {},
   "source": [
    "Dados sgs"
   ]
  },
  {
   "cell_type": "code",
   "execution_count": 6,
   "metadata": {},
   "outputs": [],
   "source": [
    "import sgs\n",
    "import pandas as pd\n",
    "\n",
    "# Definir a série que você quer baixar (ex: Selic diária - código 11)\n",
    "codigo_selic = 11\n",
    "\n",
    "# Definir o período desejado\n",
    "data_inicial = '01/01/2020'\n",
    "data_final = '31/12/2024' # Ajuste para a data mais recente ou data de interesse\n",
    "\n",
    "df_selic = sgs.dataframe([codigo_selic], start='02/01/2018', end='31/12/2018')\n",
    "\n",
    "#Concessões de crédito com recursos livres - Pessoas físicas - Crédito pessoal total\n",
    "df_vol = sgs.dataframe([20672], start='01/01/2012', end='31/12/2024')\n",
    "\n",
    "#Saldo da carteira de crédito com recursos livres - Pessoas físicas - Crédito pessoal total\n",
    "df_saldo = sgs.dataframe([20580], start='01/01/2012', end='31/12/2024')\n",
    "\n"
   ]
  },
  {
   "cell_type": "markdown",
   "metadata": {},
   "source": [
    "Concessões de crédito com recursos livres"
   ]
  },
  {
   "cell_type": "code",
   "execution_count": null,
   "metadata": {},
   "outputs": [],
   "source": [
    "#Concessões de crédito com recursos livres - Pessoas físicas - Crédito pessoal total\n",
    "df_vol = sgs.dataframe([20672], start='01/01/2012', end='31/12/2024')\n",
    "\n",
    "#Saldo da carteira de crédito com recursos livres - Pessoas físicas - Crédito pessoal total\n",
    "df_saldo = sgs.dataframe([20580], start='01/01/2012', end='31/12/2024')"
   ]
  },
  {
   "cell_type": "markdown",
   "metadata": {},
   "source": [
    "Prazo médio das concessões de crédito com recursos livres"
   ]
  },
  {
   "cell_type": "code",
   "execution_count": null,
   "metadata": {},
   "outputs": [],
   "source": [
    "#Prazo médio das concessões de crédito com recursos livres - Pessoas físicas - Total (meses)\n",
    "\n",
    "df_prazo = sgs.dataframe([20878], start='01/01/2012', end='31/12/2024')"
   ]
  },
  {
   "cell_type": "markdown",
   "metadata": {},
   "source": [
    "Dados if.data"
   ]
  },
  {
   "cell_type": "code",
   "execution_count": 1,
   "metadata": {},
   "outputs": [],
   "source": [
    "import requests\n",
    "import pandas as pd\n",
    "\n",
    "ifdata = 'https://olinda.bcb.gov.br/olinda/servico/IFDATA/versao/v1/odata/IfDataValores(AnoMes=@AnoMes,TipoInstituicao=@TipoInstituicao,Relatorio=@Relatorio)?@AnoMes=202412&@TipoInstituicao=2&@Relatorio=\\'11\\'&$top=100000&$format=json&$select=TipoInstituicao,CodInst,AnoMes,NomeRelatorio,NumeroRelatorio,Grupo,Conta,NomeColuna,DescricaoColuna,Saldo'\n",
    "\n",
    "req = requests.get(ifdata)\n",
    "info = req.json()\n",
    "\n",
    "df_info = pd.DataFrame(info['value'])\n",
    "\n"
   ]
  },
  {
   "cell_type": "code",
   "execution_count": 55,
   "metadata": {},
   "outputs": [],
   "source": [
    "df_info_livre = df_info[(df_info['Grupo'] == 'Empréstimo com Consignação em Folha') | (df_info['Grupo'] == 'Empréstimo sem Consignação em Folha') | (df_info['Grupo'] == 'Cartão de Crédito') | (df_info['Grupo'] == 'Outros Créditos')]\n"
   ]
  },
  {
   "cell_type": "code",
   "execution_count": null,
   "metadata": {},
   "outputs": [
    {
     "name": "stdout",
     "output_type": "stream",
     "text": [
      "813.4131385648583\n"
     ]
    }
   ],
   "source": [
    "df_Ativo_total = df_info_livre[df_info_livre['NomeColuna'] == 'Total']\n",
    "\n",
    "Ativo_total = df_Ativo_total['Saldo'].sum()\n",
    "\n",
    "df_mktsh = pd.DataFrame(df_Ativo_total.groupby('CodInst')['Saldo'].sum())\n",
    "df_mktsh['MarketShare'] = (df_mktsh['Saldo'] / Ativo_total)\n",
    "df_mktsh['MarketShare^2'] = (df_mktsh['MarketShare'] ** 2)\n",
    "\n",
    "HHI = df_mktsh['MarketShare^2'].sum() * 10000\n",
    "\n",
    "print(HHI)\n",
    "\n"
   ]
  },
  {
   "cell_type": "code",
   "execution_count": 32,
   "metadata": {},
   "outputs": [
    {
     "name": "stdout",
     "output_type": "stream",
     "text": [
      "FunctionImports:\n",
      "  ListaDeRelatorio\n",
      "  IfDataCadastro\n",
      "  IfDataValores\n",
      "\n",
      "Function: IfDataValores\n",
      "Parameters: AnoMes <int>, TipoInstituicao <int>, Relatorio <str>\n",
      "EntitySet: _IfDataValores\n",
      "EntityType: br.gov.bcb.olinda.servico.IFDATA.TipoIfValores\n",
      "Properties: TipoInstituicao <int>, CodInst <str>, AnoMes <str>, NomeRelatorio <str>, NumeroRelatorio <str>, Grupo <str>, Conta <str>, NomeColuna <str>, DescricaoColuna <str>, Saldo <float>\n"
     ]
    },
    {
     "ename": "NameError",
     "evalue": "name 'bcb' is not defined",
     "output_type": "error",
     "traceback": [
      "\u001b[31m---------------------------------------------------------------------------\u001b[39m",
      "\u001b[31mNameError\u001b[39m                                 Traceback (most recent call last)",
      "\u001b[36mCell\u001b[39m\u001b[36m \u001b[39m\u001b[32mIn[32]\u001b[39m\u001b[32m, line 12\u001b[39m\n\u001b[32m      9\u001b[39m a.describe(\u001b[33m\"\u001b[39m\u001b[33mIfDataValores\u001b[39m\u001b[33m\"\u001b[39m)\n\u001b[32m     11\u001b[39m \u001b[38;5;66;03m#ep = a.get_endpoint('IfDataValores')\u001b[39;00m\n\u001b[32m---> \u001b[39m\u001b[32m12\u001b[39m ep = \u001b[43mbcb\u001b[49m.odata.api.IFDATA()\n\u001b[32m     14\u001b[39m \u001b[38;5;66;03m#dir(ep)\u001b[39;00m\n\u001b[32m     16\u001b[39m df_ifdata = (ep.query()\n\u001b[32m     17\u001b[39m                 .filter(ep.TipoInstituicao == \u001b[32m1\u001b[39m) \u001b[38;5;66;03m# Filtro opcional: TipoInstituicao igual a 1\u001b[39;00m\n\u001b[32m     18\u001b[39m                 .collect())\n",
      "\u001b[31mNameError\u001b[39m: name 'bcb' is not defined"
     ]
    }
   ],
   "source": [
    "import requests\n",
    "from bcb import ODataAPI\n",
    "\n",
    "a = ODataAPI('https://olinda.bcb.gov.br/olinda/servico/IFDATA/versao/v1/odata/')\n",
    "a.describe()\n",
    "\n",
    "#a.describe(\"ListaDeRelatorio\")\n",
    "#a.describe(\"IfDataCadastro\")\n",
    "a.describe(\"IfDataValores\")\n",
    "\n",
    "#ep = a.get_endpoint('IfDataValores')\n",
    "ep = bcb.odata.api.IFDATA()\n",
    "\n",
    "#dir(ep)\n",
    "\n",
    "df_ifdata = (ep.query()\n",
    "                .filter(ep.TipoInstituicao == 1) # Filtro opcional: TipoInstituicao igual a 1\n",
    "                .collect())\n"
   ]
  },
  {
   "cell_type": "code",
   "execution_count": 15,
   "metadata": {},
   "outputs": [
    {
     "name": "stdout",
     "output_type": "stream",
     "text": [
      "EntitySets:\n",
      "  TaxasJurosMensalPorMes\n",
      "  ParametrosConsulta\n",
      "  TaxasJurosDiariaPorInicioPeriodo\n",
      "  ConsultaUnificada\n",
      "  ConsultaDatas\n",
      "\n",
      "EntitySet (Endpoint): TaxasJurosDiariaPorInicioPeriodo\n",
      "EntityType: br.gov.bcb.olinda.servico.taxaJuros.TaxaJurosDiaria\n",
      "Properties: InicioPeriodo<str>, FimPeriodo<str>, codigoSegmento<str>, Segmento<str>, codigoModalidade<str>, Modalidade<str>, Posicao<int>, InstituicaoFinanceira<str>, TaxaJurosAoMes<float>, TaxaJurosAoAno<float>, cnpj8<str>\n"
     ]
    },
    {
     "data": {
      "text/plain": [
       "<Axes: title={'center': 'Mediana das Taxas de Juros de Cheque Especial - Fonte:BCB'}, xlabel='Data', ylabel='Taxa'>"
      ]
     },
     "execution_count": 15,
     "metadata": {},
     "output_type": "execute_result"
    },
    {
     "data": {
      "image/png": "[encoded data removed]",
      "text/plain": [
       "<Figure size 1600x600 with 1 Axes>"
      ]
     },
     "metadata": {},
     "output_type": "display_data"
    }
   ],
   "source": [
    "from bcb import TaxaJuros\n",
    "import matplotlib\n",
    "\n",
    "em = TaxaJuros()\n",
    "em.describe()\n",
    "\n",
    "em.describe(\"TaxasJurosDiariaPorInicioPeriodo\")\n",
    "\n",
    "ep = em.get_endpoint('TaxasJurosDiariaPorInicioPeriodo')\n",
    "df_cheque = (ep.query()\n",
    "               .filter(ep.Segmento == 'PESSOA FÍSICA',\n",
    "                       ep.Modalidade == 'Cheque especial - Pré-fixado')\n",
    "               .collect())\n",
    "\n",
    "grp = df_cheque.groupby('InicioPeriodo')\n",
    "\n",
    "df_mean = grp.agg({'TaxaJurosAoMes': 'median'})\n",
    "\n",
    "df_mean['TaxaJurosAoMes'].plot(figsize=(16,6), style='o', markersize=1,\n",
    "                               xlabel='Data', ylabel='Taxa',\n",
    "                               title='Mediana das Taxas de Juros de Cheque Especial - Fonte:BCB')\n"
   ]
  },
  {
   "cell_type": "markdown",
   "metadata": {},
   "source": [
    "Concessões de crédito - Pessoas físicas - Total"
   ]
  },
  {
   "cell_type": "code",
   "execution_count": 16,
   "metadata": {},
   "outputs": [],
   "source": [
    "import sgs\n",
    "import pandas as pd\n",
    "\n",
    "# Definir a série que você quer baixar (ex: Selic diária - código 11)\n",
    "codigo_cocessões_pf = 20633\n",
    "\n",
    "# Definir o período desejado\n",
    "data_inicial = '01/01/2020'\n",
    "data_final = '31/12/2024' # Ajuste para a data mais recente ou data de interesse\n",
    "\n",
    "df_conces = sgs.dataframe([codigo_cocessões_pf], start='01/01/2012', end='31/12/2024')\n"
   ]
  },
  {
   "cell_type": "code",
   "execution_count": 18,
   "metadata": {},
   "outputs": [],
   "source": [
    "import sgs\n",
    "import pandas as pd\n",
    "\n",
    "# Definir a série que você quer baixar (ex: Selic diária - código 11)\n",
    "codigo_selic = 11\n",
    "\n",
    "# Definir o período desejado\n",
    "data_inicial = '01/01/2020'\n",
    "data_final = '31/12/2024' # Ajuste para a data mais recente ou data de interesse\n",
    "\n",
    "df_selic = sgs.dataframe([codigo_selic], start='02/01/2018', end='31/12/2018')\n",
    "\n",
    "#Concessões de crédito com recursos livres - Pessoas físicas - Crédito pessoal total\n",
    "df_vol = sgs.dataframe([20672], start='01/01/2012', end='31/12/2024')\n",
    "\n",
    "#Saldo da carteira de crédito com recursos livres - Pessoas físicas - Crédito pessoal total\n",
    "df_saldo = sgs.dataframe([20580], start='01/01/2012', end='31/12/2024')\n",
    "\n"
   ]
  },
  {
   "cell_type": "markdown",
   "metadata": {},
   "source": [
    "Sistema de Informações de Créditos – SCR"
   ]
  },
  {
   "cell_type": "code",
   "execution_count": 23,
   "metadata": {},
   "outputs": [],
   "source": [
    "scr_2412 = pd.read_csv('dados/planilha_202412.csv', sep=';')"
   ]
  },
  {
   "cell_type": "code",
   "execution_count": 28,
   "metadata": {},
   "outputs": [],
   "source": [
    "scr_2412_pf = scr_2412[(scr_2412['cliente'] == 'PF') & (scr_2412['origem'] == 'Sem destinação específica')]\n"
   ]
  },
  {
   "cell_type": "code",
   "execution_count": 30,
   "metadata": {},
   "outputs": [],
   "source": [
    "scr_2412_pj = scr_2412[(scr_2412['cliente'] == 'PJ') & (scr_2412['origem'] == 'Sem destinação específica')]"
   ]
  }
 ],
 "metadata": {
  "kernelspec": {
   "display_name": "bcb",
   "language": "python",
   "name": "python3"
  },
  "language_info": {
   "codemirror_mode": {
    "name": "ipython",
    "version": 3
   },
   "file_extension": ".py",
   "mimetype": "text/x-python",
   "name": "python",
   "nbconvert_exporter": "python",
   "pygments_lexer": "ipython3",
   "version": "3.12.9"
  }
 },
 "nbformat": 4,
 "nbformat_minor": 2
}
