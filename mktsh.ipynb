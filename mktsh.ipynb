{
 "cells": [
  {
   "cell_type": "markdown",
   "id": "f0da618e",
   "metadata": {},
   "source": [
    "HHI 06/2012"
   ]
  },
  {
   "cell_type": "code",
   "execution_count": 6,
   "id": "5a7c8694",
   "metadata": {},
   "outputs": [],
   "source": [
    "import pandas as pd\n",
    "\n",
    "req = requests.get(ifdata)\n",
    "info = req.json()\n",
    "\n",
    "df_info = pd.read_csv('dados/Carteirapf_201206.csv', sep=';')\n",
    "\n"
   ]
  },
  {
   "cell_type": "code",
   "execution_count": 7,
   "id": "5ff98a8c",
   "metadata": {},
   "outputs": [
    {
     "ename": "KeyError",
     "evalue": "'Grupo'",
     "output_type": "error",
     "traceback": [
      "\u001b[31m---------------------------------------------------------------------------\u001b[39m",
      "\u001b[31mKeyError\u001b[39m                                  Traceback (most recent call last)",
      "\u001b[36mFile \u001b[39m\u001b[32m~/anaconda3/envs/bcb/lib/python3.12/site-packages/pandas/core/indexes/base.py:3805\u001b[39m, in \u001b[36mIndex.get_loc\u001b[39m\u001b[34m(self, key)\u001b[39m\n\u001b[32m   3804\u001b[39m \u001b[38;5;28;01mtry\u001b[39;00m:\n\u001b[32m-> \u001b[39m\u001b[32m3805\u001b[39m     \u001b[38;5;28;01mreturn\u001b[39;00m \u001b[38;5;28;43mself\u001b[39;49m\u001b[43m.\u001b[49m\u001b[43m_engine\u001b[49m\u001b[43m.\u001b[49m\u001b[43mget_loc\u001b[49m\u001b[43m(\u001b[49m\u001b[43mcasted_key\u001b[49m\u001b[43m)\u001b[49m\n\u001b[32m   3806\u001b[39m \u001b[38;5;28;01mexcept\u001b[39;00m \u001b[38;5;167;01mKeyError\u001b[39;00m \u001b[38;5;28;01mas\u001b[39;00m err:\n",
      "\u001b[36mFile \u001b[39m\u001b[32mindex.pyx:167\u001b[39m, in \u001b[36mpandas._libs.index.IndexEngine.get_loc\u001b[39m\u001b[34m()\u001b[39m\n",
      "\u001b[36mFile \u001b[39m\u001b[32mindex.pyx:196\u001b[39m, in \u001b[36mpandas._libs.index.IndexEngine.get_loc\u001b[39m\u001b[34m()\u001b[39m\n",
      "\u001b[36mFile \u001b[39m\u001b[32mpandas/_libs/hashtable_class_helper.pxi:7081\u001b[39m, in \u001b[36mpandas._libs.hashtable.PyObjectHashTable.get_item\u001b[39m\u001b[34m()\u001b[39m\n",
      "\u001b[36mFile \u001b[39m\u001b[32mpandas/_libs/hashtable_class_helper.pxi:7089\u001b[39m, in \u001b[36mpandas._libs.hashtable.PyObjectHashTable.get_item\u001b[39m\u001b[34m()\u001b[39m\n",
      "\u001b[31mKeyError\u001b[39m: 'Grupo'",
      "\nThe above exception was the direct cause of the following exception:\n",
      "\u001b[31mKeyError\u001b[39m                                  Traceback (most recent call last)",
      "\u001b[36mCell\u001b[39m\u001b[36m \u001b[39m\u001b[32mIn[7]\u001b[39m\u001b[32m, line 1\u001b[39m\n\u001b[32m----> \u001b[39m\u001b[32m1\u001b[39m df_info_livre_2 = df_info[(\u001b[43mdf_info\u001b[49m\u001b[43m[\u001b[49m\u001b[33;43m'\u001b[39;49m\u001b[33;43mGrupo\u001b[39;49m\u001b[33;43m'\u001b[39;49m\u001b[43m]\u001b[49m == \u001b[33m'\u001b[39m\u001b[33mEmpréstimo com Consignação em Folha\u001b[39m\u001b[33m'\u001b[39m) | (df_info[\u001b[33m'\u001b[39m\u001b[33mGrupo\u001b[39m\u001b[33m'\u001b[39m] == \u001b[33m'\u001b[39m\u001b[33mEmpréstimo sem Consignação em Folha\u001b[39m\u001b[33m'\u001b[39m) | (df_info[\u001b[33m'\u001b[39m\u001b[33mGrupo\u001b[39m\u001b[33m'\u001b[39m] == \u001b[33m'\u001b[39m\u001b[33mCartão de Crédito\u001b[39m\u001b[33m'\u001b[39m) | (df_info[\u001b[33m'\u001b[39m\u001b[33mGrupo\u001b[39m\u001b[33m'\u001b[39m] == \u001b[33m'\u001b[39m\u001b[33mOutros Créditos\u001b[39m\u001b[33m'\u001b[39m)]\n\u001b[32m      3\u001b[39m df_Ativo_total = df_info_livre_2[df_info_livre_2[\u001b[33m'\u001b[39m\u001b[33mNomeColuna\u001b[39m\u001b[33m'\u001b[39m] == \u001b[33m'\u001b[39m\u001b[33mTotal\u001b[39m\u001b[33m'\u001b[39m]\n\u001b[32m      5\u001b[39m Ativo_total = df_Ativo_total[\u001b[33m'\u001b[39m\u001b[33mSaldo\u001b[39m\u001b[33m'\u001b[39m].sum()\n",
      "\u001b[36mFile \u001b[39m\u001b[32m~/anaconda3/envs/bcb/lib/python3.12/site-packages/pandas/core/frame.py:4102\u001b[39m, in \u001b[36mDataFrame.__getitem__\u001b[39m\u001b[34m(self, key)\u001b[39m\n\u001b[32m   4100\u001b[39m \u001b[38;5;28;01mif\u001b[39;00m \u001b[38;5;28mself\u001b[39m.columns.nlevels > \u001b[32m1\u001b[39m:\n\u001b[32m   4101\u001b[39m     \u001b[38;5;28;01mreturn\u001b[39;00m \u001b[38;5;28mself\u001b[39m._getitem_multilevel(key)\n\u001b[32m-> \u001b[39m\u001b[32m4102\u001b[39m indexer = \u001b[38;5;28;43mself\u001b[39;49m\u001b[43m.\u001b[49m\u001b[43mcolumns\u001b[49m\u001b[43m.\u001b[49m\u001b[43mget_loc\u001b[49m\u001b[43m(\u001b[49m\u001b[43mkey\u001b[49m\u001b[43m)\u001b[49m\n\u001b[32m   4103\u001b[39m \u001b[38;5;28;01mif\u001b[39;00m is_integer(indexer):\n\u001b[32m   4104\u001b[39m     indexer = [indexer]\n",
      "\u001b[36mFile \u001b[39m\u001b[32m~/anaconda3/envs/bcb/lib/python3.12/site-packages/pandas/core/indexes/base.py:3812\u001b[39m, in \u001b[36mIndex.get_loc\u001b[39m\u001b[34m(self, key)\u001b[39m\n\u001b[32m   3807\u001b[39m     \u001b[38;5;28;01mif\u001b[39;00m \u001b[38;5;28misinstance\u001b[39m(casted_key, \u001b[38;5;28mslice\u001b[39m) \u001b[38;5;129;01mor\u001b[39;00m (\n\u001b[32m   3808\u001b[39m         \u001b[38;5;28misinstance\u001b[39m(casted_key, abc.Iterable)\n\u001b[32m   3809\u001b[39m         \u001b[38;5;129;01mand\u001b[39;00m \u001b[38;5;28many\u001b[39m(\u001b[38;5;28misinstance\u001b[39m(x, \u001b[38;5;28mslice\u001b[39m) \u001b[38;5;28;01mfor\u001b[39;00m x \u001b[38;5;129;01min\u001b[39;00m casted_key)\n\u001b[32m   3810\u001b[39m     ):\n\u001b[32m   3811\u001b[39m         \u001b[38;5;28;01mraise\u001b[39;00m InvalidIndexError(key)\n\u001b[32m-> \u001b[39m\u001b[32m3812\u001b[39m     \u001b[38;5;28;01mraise\u001b[39;00m \u001b[38;5;167;01mKeyError\u001b[39;00m(key) \u001b[38;5;28;01mfrom\u001b[39;00m\u001b[38;5;250m \u001b[39m\u001b[34;01merr\u001b[39;00m\n\u001b[32m   3813\u001b[39m \u001b[38;5;28;01mexcept\u001b[39;00m \u001b[38;5;167;01mTypeError\u001b[39;00m:\n\u001b[32m   3814\u001b[39m     \u001b[38;5;66;03m# If we have a listlike key, _check_indexing_error will raise\u001b[39;00m\n\u001b[32m   3815\u001b[39m     \u001b[38;5;66;03m#  InvalidIndexError. Otherwise we fall through and re-raise\u001b[39;00m\n\u001b[32m   3816\u001b[39m     \u001b[38;5;66;03m#  the TypeError.\u001b[39;00m\n\u001b[32m   3817\u001b[39m     \u001b[38;5;28mself\u001b[39m._check_indexing_error(key)\n",
      "\u001b[31mKeyError\u001b[39m: 'Grupo'"
     ]
    }
   ],
   "source": [
    "df_info_livre_2 = df_info[(df_info['Grupo'] == 'Empréstimo com Consignação em Folha') | (df_info['Grupo'] == 'Empréstimo sem Consignação em Folha') | (df_info['Grupo'] == 'Cartão de Crédito') | (df_info['Grupo'] == 'Outros Créditos')]\n",
    "\n",
    "df_Ativo_total = df_info_livre_2[df_info_livre_2['NomeColuna'] == 'Total']\n",
    "\n",
    "Ativo_total = df_Ativo_total['Saldo'].sum()\n",
    "\n",
    "df_mktsh = pd.DataFrame(df_Ativo_total.groupby('CodInst')['Saldo'].sum())\n",
    "df_mktsh['MarketShare'] = (df_mktsh['Saldo'] / Ativo_total)\n",
    "df_mktsh['MarketShare^2'] = (df_mktsh['MarketShare'] ** 2)\n",
    "\n",
    "HHI = df_mktsh['MarketShare^2'].sum() * 10000\n",
    "\n",
    "print(HHI)"
   ]
  },
  {
   "cell_type": "markdown",
   "id": "4aaf4751",
   "metadata": {},
   "source": [
    "HHI 06/2024"
   ]
  },
  {
   "cell_type": "code",
   "execution_count": 9,
   "id": "7c310f02",
   "metadata": {},
   "outputs": [
    {
     "name": "stdout",
     "output_type": "stream",
     "text": [
      "833.6713559482235\n"
     ]
    }
   ],
   "source": [
    "import requests\n",
    "import pandas as pd\n",
    "\n",
    "ifdata = 'https://olinda.bcb.gov.br/olinda/servico/IFDATA/versao/v1/odata/IfDataValores(AnoMes=@AnoMes,TipoInstituicao=@TipoInstituicao,Relatorio=@Relatorio)?@AnoMes=202406&@TipoInstituicao=2&@Relatorio=\\'11\\'&$top=100000&$format=json&$select=TipoInstituicao,CodInst,AnoMes,NomeRelatorio,NumeroRelatorio,Grupo,Conta,NomeColuna,DescricaoColuna,Saldo'\n",
    "\n",
    "req = requests.get(ifdata)\n",
    "info = req.json()\n",
    "\n",
    "df_info = pd.DataFrame(info['value'])\n",
    "\n",
    "df_info_06 = df_info[(df_info['Grupo'] == 'Empréstimo com Consignação em Folha') | (df_info['Grupo'] == 'Empréstimo sem Consignação em Folha') | (df_info['Grupo'] == 'Cartão de Crédito') | (df_info['Grupo'] == 'Outros Créditos')]\n",
    "\n",
    "df_Ativo_total06 = df_info_06[df_info_06['NomeColuna'] == 'Total']\n",
    "\n",
    "Ativo_total = df_Ativo_total06['Saldo'].sum()\n",
    "\n",
    "df_mktsh06 = pd.DataFrame(df_Ativo_total06.groupby('CodInst')['Saldo'].sum())\n",
    "df_mktsh06['MarketShare'] = (df_mktsh06['Saldo'] / Ativo_total)\n",
    "df_mktsh06['MarketShare^2'] = (df_mktsh06['MarketShare'] ** 2)\n",
    "\n",
    "HHI06 = df_mktsh06['MarketShare^2'].sum() * 10000\n",
    "\n",
    "print(HHI06)"
   ]
  },
  {
   "cell_type": "markdown",
   "id": "8dcf02ca",
   "metadata": {},
   "source": [
    "HHI 06/2018"
   ]
  },
  {
   "cell_type": "code",
   "execution_count": 10,
   "id": "a26009ad",
   "metadata": {},
   "outputs": [
    {
     "name": "stdout",
     "output_type": "stream",
     "text": [
      "1192.8242688380294\n"
     ]
    }
   ],
   "source": [
    "import requests\n",
    "import pandas as pd\n",
    "\n",
    "ifdata = 'https://olinda.bcb.gov.br/olinda/servico/IFDATA/versao/v1/odata/IfDataValores(AnoMes=@AnoMes,TipoInstituicao=@TipoInstituicao,Relatorio=@Relatorio)?@AnoMes=201806&@TipoInstituicao=2&@Relatorio=\\'11\\'&$top=100000&$format=json&$select=TipoInstituicao,CodInst,AnoMes,NomeRelatorio,NumeroRelatorio,Grupo,Conta,NomeColuna,DescricaoColuna,Saldo'\n",
    "\n",
    "req = requests.get(ifdata)\n",
    "info = req.json()\n",
    "\n",
    "df_info = pd.DataFrame(info['value'])\n",
    "\n",
    "df_info_1806 = df_info[(df_info['Grupo'] == 'Empréstimo com Consignação em Folha') | (df_info['Grupo'] == 'Empréstimo sem Consignação em Folha') | (df_info['Grupo'] == 'Cartão de Crédito') | (df_info['Grupo'] == 'Outros Créditos')]\n",
    "\n",
    "df_Ativo_total1806 = df_info_1806[df_info_1806['NomeColuna'] == 'Total']\n",
    "\n",
    "Ativo_total = df_Ativo_total1806['Saldo'].sum()\n",
    "\n",
    "df_mktsh1806 = pd.DataFrame(df_Ativo_total1806.groupby('CodInst')['Saldo'].sum())\n",
    "df_mktsh1806['MarketShare'] = (df_mktsh1806['Saldo'] / Ativo_total)\n",
    "df_mktsh1806['MarketShare^2'] = (df_mktsh1806['MarketShare'] ** 2)\n",
    "\n",
    "HHI1806 = df_mktsh1806['MarketShare^2'].sum() * 10000\n",
    "\n",
    "print(HHI1806)"
   ]
  },
  {
   "cell_type": "markdown",
   "id": "002f2067",
   "metadata": {},
   "source": [
    "HHI 06/2016"
   ]
  },
  {
   "cell_type": "code",
   "execution_count": 11,
   "id": "3a6e2bf0",
   "metadata": {},
   "outputs": [
    {
     "name": "stdout",
     "output_type": "stream",
     "text": [
      "1245.3721415870136\n"
     ]
    }
   ],
   "source": [
    "import requests\n",
    "import pandas as pd\n",
    "\n",
    "ifdata = 'https://olinda.bcb.gov.br/olinda/servico/IFDATA/versao/v1/odata/IfDataValores(AnoMes=@AnoMes,TipoInstituicao=@TipoInstituicao,Relatorio=@Relatorio)?@AnoMes=201606&@TipoInstituicao=2&@Relatorio=\\'11\\'&$top=100000&$format=json&$select=TipoInstituicao,CodInst,AnoMes,NomeRelatorio,NumeroRelatorio,Grupo,Conta,NomeColuna,DescricaoColuna,Saldo'\n",
    "\n",
    "req = requests.get(ifdata)\n",
    "info = req.json()\n",
    "\n",
    "df_info = pd.DataFrame(info['value'])\n",
    "\n",
    "df_info_1606 = df_info[(df_info['Grupo'] == 'Empréstimo com Consignação em Folha') | (df_info['Grupo'] == 'Empréstimo sem Consignação em Folha') | (df_info['Grupo'] == 'Cartão de Crédito') | (df_info['Grupo'] == 'Outros Créditos')]\n",
    "\n",
    "df_Ativo_total1606 = df_info_1606[df_info_1606['NomeColuna'] == 'Total']\n",
    "\n",
    "Ativo_total = df_Ativo_total1606['Saldo'].sum()\n",
    "\n",
    "df_mktsh1606 = pd.DataFrame(df_Ativo_total1606.groupby('CodInst')['Saldo'].sum())\n",
    "df_mktsh1606['MarketShare'] = (df_mktsh1606['Saldo'] / Ativo_total)\n",
    "df_mktsh1606['MarketShare^2'] = (df_mktsh1606['MarketShare'] ** 2)\n",
    "\n",
    "HHI1606 = df_mktsh1606['MarketShare^2'].sum() * 10000\n",
    "\n",
    "print(HHI1606)"
   ]
  }
 ],
 "metadata": {
  "kernelspec": {
   "display_name": "bcb",
   "language": "python",
   "name": "python3"
  },
  "language_info": {
   "codemirror_mode": {
    "name": "ipython",
    "version": 3
   },
   "file_extension": ".py",
   "mimetype": "text/x-python",
   "name": "python",
   "nbconvert_exporter": "python",
   "pygments_lexer": "ipython3",
   "version": "3.12.9"
  }
 },
 "nbformat": 4,
 "nbformat_minor": 5
}
