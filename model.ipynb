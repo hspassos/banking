{
 "cells": [
  {
   "cell_type": "code",
   "execution_count": 76,
   "id": "b6ba3a34",
   "metadata": {},
   "outputs": [
    {
     "name": "stderr",
     "output_type": "stream",
     "text": [
      "/tmp/ipykernel_1805/3048876186.py:9: SettingWithCopyWarning: \n",
      "A value is trying to be set on a copy of a slice from a DataFrame.\n",
      "Try using .loc[row_indexer,col_indexer] = value instead\n",
      "\n",
      "See the caveats in the documentation: https://pandas.pydata.org/pandas-docs/stable/user_guide/indexing.html#returning-a-view-versus-a-copy\n",
      "  juros_mensal['data'] = juros_mensal['data'].dt.strftime('%Y-%m')\n"
     ]
    }
   ],
   "source": [
    "import pandas as pd\n",
    "\n",
    "juros = pd.read_csv('dados/Taxa de juros de modalidades diárias e mensais.csv', sep=',', encoding='latin1', on_bad_lines='warn')\n",
    "juros = juros.rename(columns={'cnpj8': 'cnpj', 'FimPeriodo': 'data'})\n",
    "juros['data'] = pd.to_datetime(juros['data'])\n",
    "juros = juros.drop(columns=['InicioPeriodo', 'TaxaJurosAoMes'])\n",
    "\n",
    "juros_mensal = juros[juros['data'].dt.is_month_end]\n",
    "juros_mensal['data'] = juros_mensal['data'].dt.strftime('%Y-%m')\n",
    "\n",
    "credito = pd.read_csv('dados/operações_de_crédito.csv', sep=',', encoding='latin1', on_bad_lines='warn')\n",
    "credito = credito.iloc[:, 1:]\n",
    "credito = credito.rename(columns={'#DATA_BASE': 'DATA'})\n",
    "credito['DATA'] = pd.to_datetime(credito['DATA'], format='%Y%m')\n",
    "\n",
    "cdi = pd.read_csv('dados/CDI.xls', sep='\\\\t', encoding='latin1', engine= 'python')\n",
    "cdi = cdi.rename(columns={'Data': 'data', 'Média': 'cdi', 'Taxa SELIC': 'selic'})\n",
    "cdi['data'] = pd.to_datetime(cdi['data'], format='mixed')\n",
    "cdi = cdi.set_index('data')\n",
    "\n"
   ]
  },
  {
   "cell_type": "code",
   "execution_count": 78,
   "id": "e3e8be1f",
   "metadata": {},
   "outputs": [],
   "source": [
    "model = pd.DataFrame({\n",
    "    'data': credito['DATA'],\n",
    "    'cnpj': credito['CNPJ'],\n",
    "    'nome': credito['NOME_INSTITUICAO'],\n",
    "    'credito': credito['SALDO']\n",
    "})\n",
    "model['data'] = pd.to_datetime(model['data'])\n",
    "model['data'] = model['data'].dt.strftime('%Y-%m')\n",
    "model = model.set_index('data')\n",
    "\n",
    "\n",
    "cdi = cdi.sort_values(by='data')\n",
    "cdi_mensal = cdi.groupby(cdi.index.to_period('M')).last()\n",
    "cdi_mensal.index = pd.to_datetime(cdi_mensal.index.to_timestamp())\n",
    "cdi_mensal.index = cdi_mensal.index.strftime('%Y-%m')\n",
    "\n",
    "model = model.join(cdi_mensal[['cdi', 'selic']])\n",
    "\n",
    "#filtro de modalidade de crédito (planilha \"Taxa de juros de modalidades diárias e mensais\")\n",
    "juros_mensal = juros_mensal[juros_mensal['codigoModalidade'] == 221101]\n",
    "\n",
    "model = pd.merge(model, juros_mensal, on=['data', 'cnpj'], how='left').dropna(subset=['TaxaJurosAoAno'])\n",
    "model = model.rename(columns={'TaxaJurosAoAno': 'juros'})\n",
    "\n",
    "model['juros'] = model['juros'].str.replace(',', '.').astype(float)\n",
    "model['cdi'] = model['cdi'].str.replace(',', '.').astype(float)\n",
    "model['selic'] = model['selic'].str.replace(',', '.').astype(float)\n",
    "model['spread'] = model['juros'] - model['cdi']\n"
   ]
  },
  {
   "cell_type": "code",
   "execution_count": 84,
   "id": "e7be0bd0",
   "metadata": {},
   "outputs": [],
   "source": [
    "model['total_market'] = model.groupby('data')['credito'].transform('sum')\n",
    "model['market_share'] = model['credito'] / model['total_market']\n",
    "\n",
    "model_filtered = model[model['market_share'] > 0.01]\n",
    "\n"
   ]
  }
 ],
 "metadata": {
  "kernelspec": {
   "display_name": "bcb",
   "language": "python",
   "name": "python3"
  },
  "language_info": {
   "codemirror_mode": {
    "name": "ipython",
    "version": 3
   },
   "file_extension": ".py",
   "mimetype": "text/x-python",
   "name": "python",
   "nbconvert_exporter": "python",
   "pygments_lexer": "ipython3",
   "version": "3.12.9"
  }
 },
 "nbformat": 4,
 "nbformat_minor": 5
}
